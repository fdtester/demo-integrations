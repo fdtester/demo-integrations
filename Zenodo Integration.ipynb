{
 "cells": [
  {
   "cell_type": "code",
   "execution_count": 2,
   "id": "5c644bfc",
   "metadata": {},
   "outputs": [],
   "source": [
    "import os\n",
    "from frictionless import Package, portals, Catalog"
   ]
  },
  {
   "cell_type": "code",
   "execution_count": 3,
   "id": "6dd069ea",
   "metadata": {},
   "outputs": [
    {
     "name": "stdout",
     "output_type": "stream",
     "text": [
      "7xJDd3If8ErUMUocg1XWqCTG4bl7zAZnrwKu2fRXcnAidE7PlfDUBbU0QajD\n"
     ]
    }
   ],
   "source": [
    "from dotenv import load_dotenv\n",
    "load_dotenv()\n",
    "\n",
    "# OR, the same with increased verbosity\n",
    "load_dotenv(verbose=True)\n",
    "\n",
    "# OR, explicitly providing path to '.env'\n",
    "from pathlib import Path  # Python 3.6+ only\n",
    "env_path = Path('.') / '.env'\n",
    "load_dotenv(dotenv_path=env_path)\n",
    "\n",
    "apikey = os.environ.get('ZENODO_ACCESS_TOKEN')\n",
    "apikey_sandbox = os.environ.get('ZENODO_ACCESS_TOKEN_SANDBOX')\n",
    "# print(apikey)\n",
    "print(apikey_sandbox)"
   ]
  },
  {
   "cell_type": "markdown",
   "id": "88f396f3",
   "metadata": {},
   "source": [
    "### Without apikey \n",
    "60 requests per minute, 2000 requests per hour\n",
    "### With apikey \n",
    "100 requests per minute, 5000 requests per hour"
   ]
  },
  {
   "cell_type": "markdown",
   "id": "61181086",
   "metadata": {},
   "source": [
    "# Reading"
   ]
  },
  {
   "cell_type": "code",
   "execution_count": 3,
   "id": "6f5b87ea",
   "metadata": {},
   "outputs": [
    {
     "name": "stdout",
     "output_type": "stream",
     "text": [
      "{'title': 'Frictionless Data Test Dataset Without Descriptor',\n",
      " 'resources': [{'name': 'capitals',\n",
      "                'type': 'table',\n",
      "                'path': 'capitals.csv',\n",
      "                'scheme': 'https',\n",
      "                'format': 'csv',\n",
      "                'encoding': 'utf-8',\n",
      "                'mediatype': 'text/csv',\n",
      "                'dialect': {'csv': {'skipInitialSpace': True}},\n",
      "                'schema': {'fields': [{'name': 'id', 'type': 'integer'},\n",
      "                                      {'name': 'cid', 'type': 'integer'},\n",
      "                                      {'name': 'name', 'type': 'string'}]}},\n",
      "               {'name': 'table',\n",
      "                'type': 'table',\n",
      "                'path': 'table.xls',\n",
      "                'scheme': 'https',\n",
      "                'format': 'xls',\n",
      "                'encoding': 'utf-8',\n",
      "                'mediatype': 'application/vnd.ms-excel',\n",
      "                'schema': {'fields': [{'name': 'id', 'type': 'integer'},\n",
      "                                      {'name': 'name', 'type': 'string'}]}}]}\n"
     ]
    }
   ],
   "source": [
    "# What is a record in zenodo?\n",
    "# Zenodo is a collection of research papers and data, each research paper and data is called a record.\n",
    "\n",
    "# WITHOUT DESCRIPTOR\n",
    "url = \"https://zenodo.org/record/7078768\"\n",
    "package_wod = Package(url)\n",
    "print(package_wod)"
   ]
  },
  {
   "cell_type": "code",
   "execution_count": 4,
   "id": "ad7957e1",
   "metadata": {},
   "outputs": [
    {
     "name": "stdout",
     "output_type": "stream",
     "text": [
      "{'name': 'testing',\n",
      " 'title': 'Frictionless Data Test Dataset',\n",
      " 'resources': [{'name': 'data',\n",
      "                'path': 'data.csv',\n",
      "                'schema': {'fields': [{'name': 'id',\n",
      "                                       'type': 'string',\n",
      "                                       'constraints': {'required': True}},\n",
      "                                      {'name': 'name', 'type': 'string'},\n",
      "                                      {'name': 'description', 'type': 'string'},\n",
      "                                      {'name': 'amount', 'type': 'number'}],\n",
      "                           'primaryKey': ['id']}},\n",
      "               {'name': 'data2',\n",
      "                'path': 'data2.csv',\n",
      "                'schema': {'fields': [{'name': 'parent', 'type': 'string'},\n",
      "                                      {'name': 'comment', 'type': 'string'}],\n",
      "                           'foreignKeys': [{'fields': ['parent'],\n",
      "                                            'reference': {'resource': 'data',\n",
      "                                                          'fields': ['id']}}]}}]}\n"
     ]
    }
   ],
   "source": [
    "# WITH DESCRIPTOR\n",
    "# Default supported file formats: \"csv\", \"tsv\", \"xlsx\", \"xls\", \"jsonl\", \"ndjson\"\n",
    "\n",
    "url = \"https://zenodo.org/record/7078760\"\n",
    "package_wd = Package(url)\n",
    "print(package_wd)"
   ]
  },
  {
   "cell_type": "code",
   "execution_count": 5,
   "id": "06787c8b",
   "metadata": {},
   "outputs": [
    {
     "name": "stdout",
     "output_type": "stream",
     "text": [
      "+---------+----------------+---------------------------+--------------------+\n",
      "| id      | name           | description               | amount             |\n",
      "+=========+================+===========================+====================+\n",
      "| 'A3001' | 'Taxes'        | 'Taxes we collect'        | Decimal('10000.5') |\n",
      "+---------+----------------+---------------------------+--------------------+\n",
      "| 'A5032' | 'Parking Fees' | 'Parking fees we collect' |  Decimal('2000.5') |\n",
      "+---------+----------------+---------------------------+--------------------+\n",
      "\n",
      "+----+-----+----------+\n",
      "| id | cid | name     |\n",
      "+====+=====+==========+\n",
      "|  1 |   1 | 'London' |\n",
      "+----+-----+----------+\n",
      "|  2 |   2 | 'Paris'  |\n",
      "+----+-----+----------+\n",
      "|  3 |   3 | 'Berlin' |\n",
      "+----+-----+----------+\n",
      "|  4 |   4 | 'Rome'   |\n",
      "+----+-----+----------+\n",
      "|  5 |   5 | 'Lisbon' |\n",
      "+----+-----+----------+\n",
      "\n",
      "{'valid': True,\n",
      " 'stats': {'tasks': 2, 'warnings': 0, 'errors': 0, 'seconds': 7.085},\n",
      " 'warnings': [],\n",
      " 'errors': [],\n",
      " 'tasks': [{'valid': True,\n",
      "            'name': 'data',\n",
      "            'type': 'table',\n",
      "            'place': 'data.csv',\n",
      "            'labels': ['id', 'name', 'description', 'amount'],\n",
      "            'stats': {'md5': 'c028f525f314c49ea48ed09e82292ed2',\n",
      "                      'sha256': '08b4645fd105c74fbb752c4cf6a1a995452178953bb874697830002474f9538f',\n",
      "                      'bytes': 114,\n",
      "                      'fields': 4,\n",
      "                      'rows': 2,\n",
      "                      'warnings': 0,\n",
      "                      'errors': 0,\n",
      "                      'seconds': 2.159},\n",
      "            'warnings': [],\n",
      "            'errors': []},\n",
      "           {'valid': True,\n",
      "            'name': 'data2',\n",
      "            'type': 'table',\n",
      "            'place': 'data2.csv',\n",
      "            'labels': ['parent', 'comment'],\n",
      "            'stats': {'md5': 'cb4a683d8eecb72c9ac9beea91fd592e',\n",
      "                      'sha256': 'c58f34fe7961113baf24fb45f4b9fcfff9ceae6274373fd9d3c84be540075406',\n",
      "                      'bytes': 60,\n",
      "                      'fields': 2,\n",
      "                      'rows': 3,\n",
      "                      'warnings': 0,\n",
      "                      'errors': 0,\n",
      "                      'seconds': 4.914},\n",
      "            'warnings': [],\n",
      "            'errors': []}]}\n"
     ]
    }
   ],
   "source": [
    "# ACCESS RESOURCES OF A PACKAGE\n",
    "# extract the resource data\n",
    "print(package_wd.resources[0].to_view())\n",
    "print(package_wod.resources[0].to_view())\n",
    "\n",
    "# VALIDATE\n",
    "report = package_wd.validate()\n",
    "print(report)"
   ]
  },
  {
   "cell_type": "code",
   "execution_count": 8,
   "id": "86e0498f",
   "metadata": {},
   "outputs": [
    {
     "name": "stdout",
     "output_type": "stream",
     "text": [
      "{'name': 'testing',\n",
      " 'title': 'Frictionless Data Test Dataset',\n",
      " 'resources': [{'name': 'data',\n",
      "                'path': 'data.csv',\n",
      "                'schema': {'fields': [{'name': 'id',\n",
      "                                       'type': 'string',\n",
      "                                       'constraints': {'required': True}},\n",
      "                                      {'name': 'name', 'type': 'string'},\n",
      "                                      {'name': 'description', 'type': 'string'},\n",
      "                                      {'name': 'amount', 'type': 'number'}],\n",
      "                           'primaryKey': ['id']}},\n",
      "               {'name': 'data2',\n",
      "                'path': 'data2.csv',\n",
      "                'schema': {'fields': [{'name': 'parent', 'type': 'string'},\n",
      "                                      {'name': 'comment', 'type': 'string'}],\n",
      "                           'foreignKeys': [{'fields': ['parent'],\n",
      "                                            'reference': {'resource': 'data',\n",
      "                                                          'fields': ['id']}}]}}]}\n"
     ]
    }
   ],
   "source": [
    "# WITHOUT APIKEY\n",
    "\n",
    "package_wod = Package(url, apikey=apikey)\n",
    "print(package_wod)"
   ]
  },
  {
   "cell_type": "markdown",
   "id": "5936f02e",
   "metadata": {},
   "source": [
    "# Catalog"
   ]
  },
  {
   "cell_type": "code",
   "execution_count": 20,
   "id": "fc3a4056",
   "metadata": {},
   "outputs": [
    {
     "name": "stdout",
     "output_type": "stream",
     "text": [
      "Packages 2\n"
     ]
    }
   ],
   "source": [
    "# What is a catalog?\n",
    "# Catalog is a collection of packages and we can create the catalog from multiple different records from zenodo\n",
    "# repository.\n",
    "\n",
    "control = portals.ZenodoControl(search='notes:\"TDWD\"', apikey=apikey)\n",
    "catalog = Catalog(control=control)\n",
    "print(\"Packages\", len(catalog.packages))"
   ]
  },
  {
   "cell_type": "code",
   "execution_count": 21,
   "id": "29252826",
   "metadata": {},
   "outputs": [
    {
     "data": {
      "text/plain": [
       "[{'title': 'Frictionless Data Test Dataset Without Descriptor',\n",
       "  'resources': [{'name': 'capitals',\n",
       "                 'type': 'table',\n",
       "                 'path': 'capitals.csv',\n",
       "                 'scheme': 'https',\n",
       "                 'format': 'csv',\n",
       "                 'encoding': 'utf-8',\n",
       "                 'mediatype': 'text/csv',\n",
       "                 'dialect': {'csv': {'skipInitialSpace': True}},\n",
       "                 'schema': {'fields': [{'name': 'id', 'type': 'integer'},\n",
       "                                       {'name': 'cid', 'type': 'integer'},\n",
       "                                       {'name': 'name', 'type': 'string'}]}},\n",
       "                {'name': 'table',\n",
       "                 'type': 'table',\n",
       "                 'path': 'table.xls',\n",
       "                 'scheme': 'https',\n",
       "                 'format': 'xls',\n",
       "                 'encoding': 'utf-8',\n",
       "                 'mediatype': 'application/vnd.ms-excel',\n",
       "                 'schema': {'fields': [{'name': 'id', 'type': 'integer'},\n",
       "                                       {'name': 'name', 'type': 'string'}]}}]},\n",
       " {'title': 'Frictionless Data Test Dataset Without Descriptor',\n",
       "  'resources': [{'name': 'countries',\n",
       "                 'type': 'table',\n",
       "                 'path': 'countries.csv',\n",
       "                 'scheme': 'https',\n",
       "                 'format': 'csv',\n",
       "                 'encoding': 'utf-8',\n",
       "                 'mediatype': 'text/csv',\n",
       "                 'dialect': {'headerRows': [2]},\n",
       "                 'schema': {'fields': [{'name': 'id', 'type': 'integer'},\n",
       "                                       {'name': 'neighbor_id', 'type': 'string'},\n",
       "                                       {'name': 'name', 'type': 'string'},\n",
       "                                       {'name': 'population',\n",
       "                                        'type': 'string'}]}}]}]"
      ]
     },
     "execution_count": 21,
     "metadata": {},
     "output_type": "execute_result"
    }
   ],
   "source": [
    "catalog.packages"
   ]
  },
  {
   "cell_type": "code",
   "execution_count": 13,
   "id": "5022a5f7",
   "metadata": {},
   "outputs": [
    {
     "name": "stdout",
     "output_type": "stream",
     "text": [
      "+----+-----+----------+\n",
      "| id | cid | name     |\n",
      "+====+=====+==========+\n",
      "|  1 |   1 | 'London' |\n",
      "+----+-----+----------+\n",
      "|  2 |   2 | 'Paris'  |\n",
      "+----+-----+----------+\n",
      "|  3 |   3 | 'Berlin' |\n",
      "+----+-----+----------+\n",
      "|  4 |   4 | 'Rome'   |\n",
      "+----+-----+----------+\n",
      "|  5 |   5 | 'Lisbon' |\n",
      "+----+-----+----------+\n",
      "\n",
      "{'valid': True,\n",
      " 'stats': {'tasks': 2, 'warnings': 0, 'errors': 0, 'seconds': 4.205},\n",
      " 'warnings': [],\n",
      " 'errors': [],\n",
      " 'tasks': [{'valid': True,\n",
      "            'name': 'capitals',\n",
      "            'type': 'table',\n",
      "            'place': 'capitals.csv',\n",
      "            'labels': ['id', 'cid', 'name'],\n",
      "            'stats': {'md5': '154d822b8c2aa259867067f01c0efee5',\n",
      "                      'sha256': '5ec3d8a4d137891f2f19ab9d244cbc2c30a7493f895c6b8af2506d9b229ed6a8',\n",
      "                      'bytes': 76,\n",
      "                      'fields': 3,\n",
      "                      'rows': 5,\n",
      "                      'warnings': 0,\n",
      "                      'errors': 0,\n",
      "                      'seconds': 2.711},\n",
      "            'warnings': [],\n",
      "            'errors': []},\n",
      "           {'valid': True,\n",
      "            'name': 'table',\n",
      "            'type': 'table',\n",
      "            'place': 'table.xls',\n",
      "            'labels': ['id', 'name'],\n",
      "            'stats': {'fields': 2,\n",
      "                      'rows': 2,\n",
      "                      'warnings': 0,\n",
      "                      'errors': 0,\n",
      "                      'seconds': 1.483},\n",
      "            'warnings': [],\n",
      "            'errors': []}]}\n"
     ]
    }
   ],
   "source": [
    "# READ RESOURCE\n",
    "print(catalog.packages[0].resources[0].to_view())\n",
    "\n",
    "# VALIDATE\n",
    "report = catalog.packages[0].validate()\n",
    "print(report)"
   ]
  },
  {
   "cell_type": "markdown",
   "id": "bb7304f4",
   "metadata": {},
   "source": [
    "## Catalog - Search\n",
    "#### Zenodo search guide(official): https://help.zenodo.org/guides/search/\n",
    "\n",
    "#### Search Examples\n",
    "* title:\"open science\"\n",
    "* (+description:\"frictionless\" +title:\"Bionomia\")\n",
    "* publication_date:(+publication_date:[2022-10-01 TO 2022-11-01] +title:\"frictionless\") "
   ]
  },
  {
   "cell_type": "code",
   "execution_count": 14,
   "id": "e5bc2c61",
   "metadata": {},
   "outputs": [
    {
     "name": "stdout",
     "output_type": "stream",
     "text": [
      "Packages 1\n"
     ]
    }
   ],
   "source": [
    "# BY TITLE\n",
    "\n",
    "control = portals.ZenodoControl(search='+frictionlessdata +science', apikey=apikey)\n",
    "catalog = Catalog(control=control)\n",
    "print(\"Packages\", len(catalog.packages))\n",
    "\n",
    "# link: https://zenodo.org/search?page=1&size=20&q=%2Bfrictionlessdata%20%2Bscience"
   ]
  },
  {
   "cell_type": "code",
   "execution_count": 23,
   "id": "90bfa3e0",
   "metadata": {},
   "outputs": [
    {
     "name": "stdout",
     "output_type": "stream",
     "text": [
      "Packages 1\n"
     ]
    }
   ],
   "source": [
    "# BY TITLE AND DESCRIPTION\n",
    "\n",
    "control = portals.ZenodoControl(search='(+description:\"frictionless\" +title:\"Bionomia\")', apikey=apikey)\n",
    "catalog = Catalog(control=control)\n",
    "print(\"Packages\", len(catalog.packages))\n",
    "\n",
    "# https://zenodo.org/search?page=1&size=20&q=(%2Bdescription:%22frictionless%22%20%2Btitle:%22Bionomia%22%20)"
   ]
  },
  {
   "cell_type": "code",
   "execution_count": 19,
   "id": "37d8a8fb",
   "metadata": {},
   "outputs": [
    {
     "name": "stdout",
     "output_type": "stream",
     "text": [
      "Packages 1\n"
     ]
    }
   ],
   "source": [
    "# BY PUBLICATION AND TITLE\n",
    "\n",
    "control = portals.ZenodoControl(search='(+publication_date:[2022-10-01 TO 2022-11-01] +title:\"frictionless\")', apikey=apikey)\n",
    "catalog = Catalog(control=control)\n",
    "print(\"Packages\", len(catalog.packages))"
   ]
  },
  {
   "cell_type": "code",
   "execution_count": 28,
   "id": "842c26d9",
   "metadata": {
    "scrolled": true
   },
   "outputs": [
    {
     "name": "stdout",
     "output_type": "stream",
     "text": [
      "{'name': 'catalog',\n",
      " 'packages': ['https://zenodo.org/api/files/dad5c26f-b5bc-48bd-9c3b-51bba130860a/datapackage.json']}\n",
      "+----+-----+----------+\n",
      "| id | cid | name     |\n",
      "+====+=====+==========+\n",
      "|  1 | '1' | 'London' |\n",
      "+----+-----+----------+\n",
      "|  2 | '2' | 'Paris'  |\n",
      "+----+-----+----------+\n",
      "|  3 | '3' | 'Berlin' |\n",
      "+----+-----+----------+\n",
      "|  4 | '4' | 'Rome'   |\n",
      "+----+-----+----------+\n",
      "|  5 | '5' | 'Lisbon' |\n",
      "+----+-----+----------+\n",
      "\n"
     ]
    }
   ],
   "source": [
    "# SORT \n",
    "# ascending\n",
    "\n",
    "catalog = Catalog(\n",
    "       control=portals.ZenodoControl(\n",
    "           search='creators.name\"FD Tester\"',\n",
    "           sort=\"mostrecent\",\n",
    "           page=1,\n",
    "           size=1,\n",
    "       ),\n",
    "   )\n",
    "print(catalog)\n",
    "print(catalog.packages[0].resources[0].to_view())"
   ]
  },
  {
   "cell_type": "code",
   "execution_count": 11,
   "id": "49947d92",
   "metadata": {},
   "outputs": [
    {
     "name": "stdout",
     "output_type": "stream",
     "text": [
      "Frictionless Data Test Dataset\n"
     ]
    }
   ],
   "source": [
    "# descending\n",
    "control = portals.ZenodoControl(\n",
    "        search='creators.name:\"FD Tester\"', sort=\"-mostrecent\", page=1, size=1\n",
    "    )\n",
    "catalog = Catalog(control=control)\n",
    "print(catalog.packages[0].title)\n",
    "#     assert catalog.packages[0].title == \"Test Write File - Remote\""
   ]
  },
  {
   "cell_type": "markdown",
   "id": "ccdf9401",
   "metadata": {},
   "source": [
    "## Writing Data"
   ]
  },
  {
   "cell_type": "code",
   "execution_count": 10,
   "id": "c12e376a",
   "metadata": {},
   "outputs": [
    {
     "name": "stdout",
     "output_type": "stream",
     "text": [
      "datapackage.json ID = 1122739 (DOI: 10.5281/zenodo.1122739)\n",
      "484/package/data.csv ID = 1122739 (DOI: 10.5281/zenodo.1122739)\n",
      "484/package/data2.csv ID = 1122739 (DOI: 10.5281/zenodo.1122739)\n",
      "1122739\n"
     ]
    }
   ],
   "source": [
    "control = portals.ZenodoControl(\n",
    "        metafn=\"484/package/meta.json\",\n",
    "        apikey=apikey_sandbox,\n",
    "        base_url=\"https://sandbox.zenodo.org/api/\"\n",
    "    )\n",
    "package = Package(\"484/package/datapackage.json\")\n",
    "deposition_id = package.to_zenodo(control=control)\n",
    "print(deposition_id)"
   ]
  },
  {
   "cell_type": "markdown",
   "id": "99e05dc8",
   "metadata": {},
   "source": [
    "# Controls"
   ]
  },
  {
   "cell_type": "code",
   "execution_count": 5,
   "id": "47fea325",
   "metadata": {},
   "outputs": [
    {
     "name": "stdout",
     "output_type": "stream",
     "text": [
      "{'title': 'Frictionless Data Test Dataset Multiple File Types Without '\n",
      "          'Descriptor',\n",
      " 'resources': [{'name': 'capitals',\n",
      "                'type': 'table',\n",
      "                'path': 'capitals.csv',\n",
      "                'scheme': 'https',\n",
      "                'format': 'csv',\n",
      "                'encoding': 'utf-8',\n",
      "                'mediatype': 'text/csv',\n",
      "                'dialect': {'csv': {'skipInitialSpace': True}},\n",
      "                'schema': {'fields': [{'name': 'id', 'type': 'integer'},\n",
      "                                      {'name': 'cid', 'type': 'integer'},\n",
      "                                      {'name': 'name', 'type': 'string'}]}}]}\n"
     ]
    }
   ],
   "source": [
    "# To set the properties of the plugin\n",
    "\n",
    "control = portals.ZenodoControl(formats=[\"csv\"], record=\"7078725\", apikey=apikey)\n",
    "package = Package(control=control)\n",
    "print(package)"
   ]
  }
 ],
 "metadata": {
  "kernelspec": {
   "display_name": "Python 3 (ipykernel)",
   "language": "python",
   "name": "python3"
  },
  "language_info": {
   "codemirror_mode": {
    "name": "ipython",
    "version": 3
   },
   "file_extension": ".py",
   "mimetype": "text/x-python",
   "name": "python",
   "nbconvert_exporter": "python",
   "pygments_lexer": "ipython3",
   "version": "3.8.13"
  }
 },
 "nbformat": 4,
 "nbformat_minor": 5
}
